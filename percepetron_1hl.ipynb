{
 "cells": [
  {
   "cell_type": "markdown",
   "metadata": {},
   "source": [
    "### Implementação de um perceptron com uma camada oculta"
   ]
  },
  {
   "cell_type": "code",
   "execution_count": 1,
   "metadata": {},
   "outputs": [],
   "source": [
    "import numpy as np"
   ]
  },
  {
   "cell_type": "code",
   "execution_count": 2,
   "metadata": {
    "pixiedust": {
     "displayParams": {}
    }
   },
   "outputs": [],
   "source": [
    "class Perceptron_1hl():\n",
    "\n",
    "    def __init__(self, iters=100, taxa_aprendizado=0.01, nodes_hidden=4):\n",
    "        self.iters = iters\n",
    "        self.taxa_aprendizado = taxa_aprendizado\n",
    "        # cria um array inicialmente com zeros, a 1a posicao do array sera o bias, as outras posições os pesos\n",
    "        self.erros = []\n",
    "        self.nodes_hidden = nodes_hidden \n",
    "    \n",
    "    def predict(self, x):\n",
    "        if self.feedforward(x) > .5:\n",
    "            return 1\n",
    "        return 0\n",
    "    \n",
    "    def sigmoid(self, x):\n",
    "        return 1/(1+np.exp(-x))\n",
    "    \n",
    "    def sigmoid_derivate(self, x):\n",
    "        return self.sigmoid(x)*self.sigmoid(1-x)\n",
    "    \n",
    "    def feedforward(self, x):\n",
    "        # multiplica cada entrada pelo peso do no da camada oculta\n",
    "        self.z_oculta = np.dot(x, self.pesos_oculta)\n",
    "\n",
    "        # passa pela função de ativação\n",
    "        self.a_oculta = self.sigmoid(self.z_oculta)\n",
    "\n",
    "        # multiplica a saida de cada nó da camada oculta pelo peso do nó de saida\n",
    "        self.z_saida = np.dot(self.a_oculta, self.pesos_saida)\n",
    "\n",
    "         # passa pela função de ativação de saida\n",
    "        a_saida = self.sigmoid(self.z_saida)\n",
    "        \n",
    "        return a_saida\n",
    "    \n",
    "    def fit(self, X, y):\n",
    "        \n",
    "        # pesos da camada oculta\n",
    "        self.pesos_oculta = np.random.rand(len(X[0]), self.nodes_hidden) \n",
    "\n",
    "        # pesos da saida\n",
    "        self.pesos_saida = np.random.rand(self.nodes_hidden, 1) \n",
    "        \n",
    "        for _ in range(self.iters):\n",
    "            erros = 0\n",
    "            for x_i, y_i in zip(X, y):\n",
    "                \n",
    "                ##### FEED FORWARD\n",
    "                a_saida = self.feedforward(x_i)\n",
    "\n",
    "                ######## BACK PROPAGATION FASE 1 - CALCULO DO GRADIENTE PARA CAMADA DE SAIDA\n",
    "                # MSE\n",
    "                erro_saida = ((1 / 2) * (np.power((a_saida - y_i), 2)))\n",
    "                erro_soma = sum(erro_saida)\n",
    "                \n",
    "                # minimiza a função custo\n",
    "                # dcost/dpesos = dcost/da_saida * da_saida/dz_saida * dz_saida/dpesos\n",
    "                # derivada do custo em relacao a func de ativacao : dcost = 2/n*(a_saida-y_i)  , 2/n é constante e pode ser dispensavel\n",
    "                dcost_da_saida = a_saida - y_i\n",
    "\n",
    "                # derivada da func de ativacao em relação ao somatorio z\n",
    "                da_saida_dz_saida = self.sigmoid_derivate(self.z_saida) \n",
    "\n",
    "                # derivada de z em relacao aos pesos\n",
    "                dz_saida_dw_saida = np.array([self.a_oculta])\n",
    "\n",
    "                dcost_w_saida = np.dot(dz_saida_dw_saida.T, dcost_da_saida * da_saida_dz_saida)\n",
    "\n",
    "                \n",
    "                ######## BACK PROPAGATION FASE 2 - CALCULO DO GRADIENTE PARA CAMADA OCULTA\n",
    "                dcost_dz_saida = dcost_da_saida * da_saida_dz_saida\n",
    "                dz_saida_da_oculta = self.pesos_saida                \n",
    "                dcost_da_oculta = np.dot(dcost_dz_saida , dz_saida_da_oculta.T)                \n",
    "                \n",
    "                da_oculta_dz_oculta = self.sigmoid_derivate(self.z_oculta) \n",
    "                dz_oculta_dw_oculta = np.array([x_i])\n",
    "\n",
    "                dcost_w_oculta = np.dot(dz_oculta_dw_oculta.T, np.array([da_oculta_dz_oculta * dcost_da_oculta]))\n",
    "\n",
    "                ###### Atualiza pesos\n",
    "                self.pesos_oculta -= self.taxa_aprendizado * dcost_w_oculta\n",
    "\n",
    "                self.pesos_saida -= self.taxa_aprendizado * np.array([dcost_w_saida]).T"
   ]
  },
  {
   "cell_type": "code",
   "execution_count": 3,
   "metadata": {},
   "outputs": [],
   "source": [
    "from sklearn import datasets\n",
    "import numpy as np\n",
    "import matplotlib.pyplot as plt\n",
    "\n",
    "np.random.seed(0)\n",
    "feature_set, labels = datasets.make_moons(100, noise=0.10)\n",
    "plt.figure(figsize=(10,7))\n",
    "plt.scatter(feature_set[:,0], feature_set[:,1], c=labels, cmap=plt.cm.winter)\n",
    "\n",
    "labels = labels.reshape(100, 1)"
   ]
  },
  {
   "cell_type": "code",
   "execution_count": 4,
   "metadata": {},
   "outputs": [],
   "source": [
    "p = Perceptron_1hl(iters=2000,taxa_aprendizado=0.5)"
   ]
  },
  {
   "cell_type": "code",
   "execution_count": 5,
   "metadata": {},
   "outputs": [],
   "source": [
    "p.fit(feature_set,labels)"
   ]
  },
  {
   "cell_type": "code",
   "execution_count": 6,
   "metadata": {},
   "outputs": [
    {
     "name": "stdout",
     "output_type": "stream",
     "text": [
      "errou 2 [0] 1\n",
      "errou 3 [1] 0\n",
      "errou 8 [1] 0\n",
      "errou 10 [1] 0\n",
      "errou 34 [1] 0\n",
      "errou 37 [1] 0\n",
      "errou 40 [0] 1\n",
      "errou 52 [0] 1\n",
      "errou 55 [1] 0\n",
      "errou 59 [1] 0\n"
     ]
    }
   ],
   "source": [
    "i=0\n",
    "for j in feature_set:\n",
    "    l = p.predict(j)\n",
    "    if l != labels[i]:\n",
    "        print(\"errou\", i, labels[i], l)\n",
    "    i+=1"
   ]
  },
  {
   "cell_type": "code",
   "execution_count": null,
   "metadata": {},
   "outputs": [],
   "source": []
  }
 ],
 "metadata": {
  "kernelspec": {
   "display_name": "Python 3",
   "language": "python",
   "name": "python3"
  },
  "language_info": {
   "codemirror_mode": {
    "name": "ipython",
    "version": 3
   },
   "file_extension": ".py",
   "mimetype": "text/x-python",
   "name": "python",
   "nbconvert_exporter": "python",
   "pygments_lexer": "ipython3",
   "version": "3.6.5"
  }
 },
 "nbformat": 4,
 "nbformat_minor": 2
}
